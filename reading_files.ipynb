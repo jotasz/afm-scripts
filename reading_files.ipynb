{
 "cells": [
  {
   "cell_type": "code",
   "execution_count": 1,
   "metadata": {},
   "outputs": [],
   "source": [
    "import numpy as np\n",
    "import scipy.optimize\n",
    "import matplotlib.pyplot as plt\n",
    "import matplotlib.cm as cm\n",
    "import matplotlib as mpl\n",
    "import csv \n",
    "import io\n",
    "import pandas as pd\n",
    "from pandas.compat import StringIO, BytesIO\n",
    "import time #time.time() function to compute time"
   ]
  },
  {
   "cell_type": "markdown",
   "metadata": {},
   "source": [
    "### Functions reading Nanonis files"
   ]
  },
  {
   "cell_type": "code",
   "execution_count": 2,
   "metadata": {},
   "outputs": [],
   "source": [
    "def read_nanonis_experiment(filename):\n",
    "    with open(filename, \"rb\") as data_file:\n",
    "        dummy_file = data_file.read()\n",
    "\n",
    "        position = dummy_file.find(b'Experiment')\n",
    "        data_file.seek(position)\n",
    "        #data_type = data_file.readline().decode('ascii').split()[1:]\n",
    "        data_type = data_file.readline().decode('ascii')[11:]\n",
    "    return data_type\n",
    "\n",
    "def read_nanonis_curve(filename):\n",
    "    import pandas as pd\n",
    "    with open(filename, \"rb\") as data_file:\n",
    "        dummy_file = data_file.read()\n",
    "\n",
    "        position = dummy_file.find(b'[DATA]')\n",
    "        data_file.seek(position)\n",
    "        data_file.readline()\n",
    "        data_table = data_file.read().decode('ascii')\n",
    "    curve=pd.read_csv(StringIO(data_table), sep='\\t')\n",
    "    return curve"
   ]
  },
  {
   "cell_type": "markdown",
   "metadata": {},
   "source": [
    "#### Testing Nanonis functions"
   ]
  },
  {
   "cell_type": "code",
   "execution_count": 5,
   "metadata": {},
   "outputs": [
    {
     "name": "stdout",
     "output_type": "stream",
     "text": [
      "Experiment\t\n",
      "\n"
     ]
    },
    {
     "data": {
      "text/html": [
       "<div>\n",
       "<style scoped>\n",
       "    .dataframe tbody tr th:only-of-type {\n",
       "        vertical-align: middle;\n",
       "    }\n",
       "\n",
       "    .dataframe tbody tr th {\n",
       "        vertical-align: top;\n",
       "    }\n",
       "\n",
       "    .dataframe thead th {\n",
       "        text-align: right;\n",
       "    }\n",
       "</style>\n",
       "<table border=\"1\" class=\"dataframe\">\n",
       "  <thead>\n",
       "    <tr style=\"text-align: right;\">\n",
       "      <th></th>\n",
       "      <th>OC M1 Freq. Shift (Hz)</th>\n",
       "      <th>OC M1 Center Freq. (Hz)</th>\n",
       "      <th>OC D1 Amplitude (m)</th>\n",
       "      <th>OC D1 Phase (deg)</th>\n",
       "    </tr>\n",
       "  </thead>\n",
       "  <tbody>\n",
       "    <tr>\n",
       "      <th>0</th>\n",
       "      <td>-4000.0000</td>\n",
       "      <td>59584.008</td>\n",
       "      <td>0.028517</td>\n",
       "      <td>149.87805</td>\n",
       "    </tr>\n",
       "    <tr>\n",
       "      <th>1</th>\n",
       "      <td>-3968.6274</td>\n",
       "      <td>59584.008</td>\n",
       "      <td>0.024419</td>\n",
       "      <td>155.71529</td>\n",
       "    </tr>\n",
       "    <tr>\n",
       "      <th>2</th>\n",
       "      <td>-3937.2549</td>\n",
       "      <td>59584.008</td>\n",
       "      <td>0.024592</td>\n",
       "      <td>164.14946</td>\n",
       "    </tr>\n",
       "    <tr>\n",
       "      <th>3</th>\n",
       "      <td>-3905.8823</td>\n",
       "      <td>59584.008</td>\n",
       "      <td>0.025161</td>\n",
       "      <td>167.03905</td>\n",
       "    </tr>\n",
       "    <tr>\n",
       "      <th>4</th>\n",
       "      <td>-3874.5098</td>\n",
       "      <td>59584.008</td>\n",
       "      <td>0.028210</td>\n",
       "      <td>155.65158</td>\n",
       "    </tr>\n",
       "  </tbody>\n",
       "</table>\n",
       "</div>"
      ],
      "text/plain": [
       "   OC M1 Freq. Shift (Hz)  OC M1 Center Freq. (Hz)  OC D1 Amplitude (m)  \\\n",
       "0              -4000.0000                59584.008             0.028517   \n",
       "1              -3968.6274                59584.008             0.024419   \n",
       "2              -3937.2549                59584.008             0.024592   \n",
       "3              -3905.8823                59584.008             0.025161   \n",
       "4              -3874.5098                59584.008             0.028210   \n",
       "\n",
       "   OC D1 Phase (deg)  \n",
       "0          149.87805  \n",
       "1          155.71529  \n",
       "2          164.14946  \n",
       "3          167.03905  \n",
       "4          155.65158  "
      ]
     },
     "execution_count": 5,
     "metadata": {},
     "output_type": "execute_result"
    }
   ],
   "source": [
    "file_name = \"Freq-Sweep-Nanonis.dat\"\n",
    "# file_name = './RawData/Bias-Spectroscopy00014.dat'\n",
    "freq_sweep = read_nanonis_curve(file_name)\n",
    "print(read_nanonis_experiment(file_name))\n",
    "freq_sweep.head()"
   ]
  },
  {
   "cell_type": "code",
   "execution_count": null,
   "metadata": {},
   "outputs": [],
   "source": []
  }
 ],
 "metadata": {
  "kernelspec": {
   "display_name": "Python 3",
   "language": "python",
   "name": "python3"
  },
  "language_info": {
   "codemirror_mode": {
    "name": "ipython",
    "version": 3
   },
   "file_extension": ".py",
   "mimetype": "text/x-python",
   "name": "python",
   "nbconvert_exporter": "python",
   "pygments_lexer": "ipython3",
   "version": "3.7.3"
  }
 },
 "nbformat": 4,
 "nbformat_minor": 4
}
