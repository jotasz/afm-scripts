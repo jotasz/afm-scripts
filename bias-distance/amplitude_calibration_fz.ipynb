{
 "cells": [
  {
   "cell_type": "code",
   "execution_count": 56,
   "metadata": {},
   "outputs": [],
   "source": [
    "import numpy as np\n",
    "from sklearn.linear_model import LinearRegression\n",
    "import scipy.optimize\n",
    "import matplotlib.pyplot as plt\n",
    "import matplotlib.cm as cm\n",
    "import matplotlib as mpl\n",
    "import csv \n",
    "import io\n",
    "import pandas as pd\n",
    "from pandas.compat import StringIO, BytesIO\n",
    "import time #time.time() function to compute time"
   ]
  },
  {
   "cell_type": "markdown",
   "metadata": {},
   "source": [
    "### Functions reading Nanonis files"
   ]
  },
  {
   "cell_type": "code",
   "execution_count": 57,
   "metadata": {},
   "outputs": [],
   "source": [
    "def read_nanonis_experiment(filename):\n",
    "    import pandas as pd\n",
    "    with open(filename, \"rb\") as data_file:\n",
    "        dummy_file = data_file.read()\n",
    "\n",
    "        position = dummy_file.find(b'Experiment')\n",
    "        data_file.seek(position)\n",
    "        #data_type = data_file.readline().decode('ascii').split()[1:]\n",
    "        data_type = data_file.readline().decode('ascii')[11:]\n",
    "    return data_type\n",
    "\n",
    "def read_nanonis_curve(filename):\n",
    "    import pandas as pd\n",
    "    with open(filename, \"rb\") as data_file:\n",
    "        dummy_file = data_file.read()\n",
    "\n",
    "        position = dummy_file.find(b'[DATA]')\n",
    "        data_file.seek(position)\n",
    "        data_file.readline()\n",
    "        data_table = data_file.read().decode('ascii')\n",
    "    curve=pd.read_csv(StringIO(data_table), sep='\\t')\n",
    "    return curve"
   ]
  },
  {
   "cell_type": "markdown",
   "metadata": {},
   "source": [
    "#### Parameters and file names"
   ]
  },
  {
   "cell_type": "code",
   "execution_count": 58,
   "metadata": {},
   "outputs": [
    {
     "data": {
      "text/plain": [
       "['./RawData/Z-Spectroscopy00200.dat', './RawData/Z-Spectroscopy00201.dat']"
      ]
     },
     "execution_count": 58,
     "metadata": {},
     "output_type": "execute_result"
    }
   ],
   "source": [
    "n0 = 200; nfiles = 2;\n",
    "file_folder = './RawData';\n",
    "file_name_root = 'Z-Spectroscopy';\n",
    "file_name_ext = '.dat';\n",
    "file_name_z = [];\n",
    "for i in range(nfiles):\n",
    "    name_string = file_folder + '/' + file_name_root + str('%05d' % (i+n0)) + file_name_ext\n",
    "    file_name_z.append(name_string)\n",
    "    \n",
    "file_name_z"
   ]
  },
  {
   "cell_type": "code",
   "execution_count": 59,
   "metadata": {},
   "outputs": [],
   "source": [
    "z_disp = [];\n",
    "defl_fwd = [];\n",
    "defl_bwd = [];\n",
    "for n in range(nfiles): \n",
    "    with open(file_name_z[n], \"rb\") as data_file:\n",
    "        #string = b'[DATA]'\n",
    "        dummy_file = data_file.read()\n",
    "        #print(file)\n",
    "\n",
    "        \n",
    "        position = dummy_file.find(b'[DATA]')\n",
    "        data_file.seek(position)\n",
    "        data_file.readline()\n",
    "        data_table = data_file.read().decode('ascii')\n",
    "    db = pd.read_csv(StringIO(data_table), sep='\\t')\n",
    "    z_disp.append(db['Z rel (m)'])\n",
    "    defl_fwd.append(db['Vert. Deflection (V)'])\n",
    "    defl_bwd.append(db['Vert. Deflection [bwd] (V)'])"
   ]
  },
  {
   "cell_type": "code",
   "execution_count": 60,
   "metadata": {},
   "outputs": [
    {
     "data": {
      "text/html": [
       "<div>\n",
       "<style scoped>\n",
       "    .dataframe tbody tr th:only-of-type {\n",
       "        vertical-align: middle;\n",
       "    }\n",
       "\n",
       "    .dataframe tbody tr th {\n",
       "        vertical-align: top;\n",
       "    }\n",
       "\n",
       "    .dataframe thead th {\n",
       "        text-align: right;\n",
       "    }\n",
       "</style>\n",
       "<table border=\"1\" class=\"dataframe\">\n",
       "  <thead>\n",
       "    <tr style=\"text-align: right;\">\n",
       "      <th></th>\n",
       "      <th>Z rel (m)</th>\n",
       "      <th>Vert. Deflection (V)</th>\n",
       "      <th>OC D1 Amplitude (m)</th>\n",
       "      <th>OC M1 Freq. Shift (Hz)</th>\n",
       "      <th>Vert. Deflection [bwd] (V)</th>\n",
       "      <th>OC D1 Amplitude [bwd] (m)</th>\n",
       "      <th>OC M1 Freq. Shift [bwd] (Hz)</th>\n",
       "    </tr>\n",
       "  </thead>\n",
       "  <tbody>\n",
       "    <tr>\n",
       "      <th>0</th>\n",
       "      <td>1.000000e-08</td>\n",
       "      <td>0.157035</td>\n",
       "      <td>4.910132e-09</td>\n",
       "      <td>-35.915916</td>\n",
       "      <td>0.158931</td>\n",
       "      <td>7.922613e-11</td>\n",
       "      <td>130.239170</td>\n",
       "    </tr>\n",
       "    <tr>\n",
       "      <th>1</th>\n",
       "      <td>9.862745e-09</td>\n",
       "      <td>0.156857</td>\n",
       "      <td>4.927856e-09</td>\n",
       "      <td>-33.642815</td>\n",
       "      <td>0.159945</td>\n",
       "      <td>7.272767e-11</td>\n",
       "      <td>152.587890</td>\n",
       "    </tr>\n",
       "    <tr>\n",
       "      <th>2</th>\n",
       "      <td>9.725490e-09</td>\n",
       "      <td>0.156914</td>\n",
       "      <td>4.935240e-09</td>\n",
       "      <td>-32.565506</td>\n",
       "      <td>0.159785</td>\n",
       "      <td>1.889429e-10</td>\n",
       "      <td>152.587890</td>\n",
       "    </tr>\n",
       "    <tr>\n",
       "      <th>3</th>\n",
       "      <td>9.588235e-09</td>\n",
       "      <td>0.156579</td>\n",
       "      <td>4.947882e-09</td>\n",
       "      <td>-26.026943</td>\n",
       "      <td>0.158888</td>\n",
       "      <td>1.955723e-10</td>\n",
       "      <td>152.587890</td>\n",
       "    </tr>\n",
       "    <tr>\n",
       "      <th>4</th>\n",
       "      <td>9.450980e-09</td>\n",
       "      <td>0.156461</td>\n",
       "      <td>4.955342e-09</td>\n",
       "      <td>-34.001934</td>\n",
       "      <td>0.159746</td>\n",
       "      <td>8.644337e-11</td>\n",
       "      <td>-36.821781</td>\n",
       "    </tr>\n",
       "  </tbody>\n",
       "</table>\n",
       "</div>"
      ],
      "text/plain": [
       "      Z rel (m)  Vert. Deflection (V)  OC D1 Amplitude (m)  \\\n",
       "0  1.000000e-08              0.157035         4.910132e-09   \n",
       "1  9.862745e-09              0.156857         4.927856e-09   \n",
       "2  9.725490e-09              0.156914         4.935240e-09   \n",
       "3  9.588235e-09              0.156579         4.947882e-09   \n",
       "4  9.450980e-09              0.156461         4.955342e-09   \n",
       "\n",
       "   OC M1 Freq. Shift (Hz)  Vert. Deflection [bwd] (V)  \\\n",
       "0              -35.915916                    0.158931   \n",
       "1              -33.642815                    0.159945   \n",
       "2              -32.565506                    0.159785   \n",
       "3              -26.026943                    0.158888   \n",
       "4              -34.001934                    0.159746   \n",
       "\n",
       "   OC D1 Amplitude [bwd] (m)  OC M1 Freq. Shift [bwd] (Hz)  \n",
       "0               7.922613e-11                    130.239170  \n",
       "1               7.272767e-11                    152.587890  \n",
       "2               1.889429e-10                    152.587890  \n",
       "3               1.955723e-10                    152.587890  \n",
       "4               8.644337e-11                    -36.821781  "
      ]
     },
     "execution_count": 60,
     "metadata": {},
     "output_type": "execute_result"
    }
   ],
   "source": [
    "db.head()"
   ]
  },
  {
   "cell_type": "code",
   "execution_count": 98,
   "metadata": {},
   "outputs": [
    {
     "data": {
      "image/png": "[encoded data removed]",
      "text/plain": [
       "<Figure size 432x288 with 1 Axes>"
      ]
     },
     "metadata": {
      "needs_background": "light"
     },
     "output_type": "display_data"
    }
   ],
   "source": [
    "#mpl.style.use('default') #set style for plots (default, classic, seaborn-colorblind)\n",
    "for i in range(nfiles):\n",
    "    plt.plot(z_disp[i]*1e9, defl_fwd[i], label = 'fwd #'+str(i));\n",
    "    plt.plot(z_disp[i]*1e9, defl_bwd[i], label = 'bwd #'+str(i));\n",
    "\n",
    "plt.xlabel('Z displacement (nm)', fontsize = 12)\n",
    "plt.ylabel('Vert. defletion (V)', fontsize = 12)\n",
    "plt.axvline(x=-1.35e-8*1e9,color='gray')\n",
    "plt.legend(ncol = 1, loc = 'upper right', fontsize = 10)\n",
    "\n",
    "#plt.axis([-350,560,0,1.1])\n",
    "#plt.tick_params(labelsize = 12, left = 'off', labelleft = 'off')\n",
    "#plt.legend(ncol = 2, loc = 'upper right', fontsize = 10)\n",
    "plt.show()"
   ]
  },
  {
   "cell_type": "markdown",
   "metadata": {},
   "source": [
    "#### Static optical sensitivity \n",
    "It calculates the **static optical sensitivity** from a F-d curve"
   ]
  },
  {
   "cell_type": "code",
   "execution_count": 141,
   "metadata": {},
   "outputs": [
    {
     "name": "stdout",
     "output_type": "stream",
     "text": [
      "Static optical sensitivity:  0.2 V/nm\n",
      "Static optical calibration:  4.93 nm/V\n"
     ]
    },
    {
     "data": {
      "image/png": "[encoded data removed]",
      "text/plain": [
       "<Figure size 432x288 with 1 Axes>"
      ]
     },
     "metadata": {
      "needs_background": "light"
     },
     "output_type": "display_data"
    }
   ],
   "source": [
    "file_name = './RawData/Z-Spectroscopy00195.dat'\n",
    "with open(file_name, \"rb\") as data_file:\n",
    "    #string = b'[DATA]'\n",
    "    dummy_file = data_file.read()\n",
    "    #print(file)\n",
    "\n",
    "        \n",
    "    position = dummy_file.find(b'[DATA]')\n",
    "    data_file.seek(position)\n",
    "    data_file.readline()\n",
    "    data_table = data_file.read().decode('ascii')\n",
    "db = pd.read_csv(StringIO(data_table), sep='\\t')\n",
    "z_disp = db['Z rel (m)']\n",
    "defl_fwd = db['Vert. Deflection (V)']\n",
    "defl_bwd = db['Vert. Deflection [bwd] (V)']\n",
    "\n",
    "ind = z_disp < 5*1e-9;\n",
    "\n",
    "\n",
    "xdata = z_disp[ind]\n",
    "ydata = defl_bwd[ind]\n",
    "\n",
    "x = np.array(xdata).reshape((-1,1))\n",
    "y = np.array(ydata)\n",
    "\n",
    "model = LinearRegression()\n",
    "model.fit(x,y)\n",
    "\n",
    "#print(model.intercept_, model.coef_)\n",
    "print('Static optical sensitivity: ', round(model.coef_[0]/1e9,2), 'V/nm')\n",
    "print('Static optical calibration: ', round(1e9/model.coef_[0],2), 'nm/V')\n",
    "\n",
    "plt.plot(z_disp*1e9, defl_fwd, label = 'fwd');\n",
    "plt.plot(z_disp*1e9, defl_bwd, label = 'bwd');\n",
    "plt.plot(x*1e9, y, label = 'fwd #'+str(i))\n",
    "plt.plot(x*1e9, model.predict(x))\n",
    "plt.show()"
   ]
  },
  {
   "cell_type": "code",
   "execution_count": 131,
   "metadata": {},
   "outputs": [
    {
     "data": {
      "text/html": [
       "<div>\n",
       "<style scoped>\n",
       "    .dataframe tbody tr th:only-of-type {\n",
       "        vertical-align: middle;\n",
       "    }\n",
       "\n",
       "    .dataframe tbody tr th {\n",
       "        vertical-align: top;\n",
       "    }\n",
       "\n",
       "    .dataframe thead th {\n",
       "        text-align: right;\n",
       "    }\n",
       "</style>\n",
       "<table border=\"1\" class=\"dataframe\">\n",
       "  <thead>\n",
       "    <tr style=\"text-align: right;\">\n",
       "      <th></th>\n",
       "      <th>Z rel (m)</th>\n",
       "      <th>Vert. Deflection (V)</th>\n",
       "      <th>OC D1 Amplitude (m)</th>\n",
       "      <th>OC M1 Freq. Shift (Hz)</th>\n",
       "      <th>Vert. Deflection [bwd] (V)</th>\n",
       "      <th>OC D1 Amplitude [bwd] (m)</th>\n",
       "      <th>OC M1 Freq. Shift [bwd] (Hz)</th>\n",
       "    </tr>\n",
       "  </thead>\n",
       "  <tbody>\n",
       "    <tr>\n",
       "      <th>73</th>\n",
       "      <td>-1.960832e-11</td>\n",
       "      <td>0.157373</td>\n",
       "      <td>4.944843e-09</td>\n",
       "      <td>-67.342552</td>\n",
       "      <td>0.161219</td>\n",
       "      <td>3.453646e-11</td>\n",
       "      <td>94.090393</td>\n",
       "    </tr>\n",
       "    <tr>\n",
       "      <th>74</th>\n",
       "      <td>-1.568630e-10</td>\n",
       "      <td>0.157119</td>\n",
       "      <td>4.933208e-09</td>\n",
       "      <td>-81.644501</td>\n",
       "      <td>0.163439</td>\n",
       "      <td>5.163214e-11</td>\n",
       "      <td>134.519590</td>\n",
       "    </tr>\n",
       "    <tr>\n",
       "      <th>75</th>\n",
       "      <td>-2.941176e-10</td>\n",
       "      <td>0.157802</td>\n",
       "      <td>4.912555e-09</td>\n",
       "      <td>-93.170227</td>\n",
       "      <td>0.162400</td>\n",
       "      <td>7.760537e-11</td>\n",
       "      <td>152.587890</td>\n",
       "    </tr>\n",
       "    <tr>\n",
       "      <th>76</th>\n",
       "      <td>-4.313723e-10</td>\n",
       "      <td>0.157466</td>\n",
       "      <td>4.894645e-09</td>\n",
       "      <td>-83.213905</td>\n",
       "      <td>0.162585</td>\n",
       "      <td>2.179591e-11</td>\n",
       "      <td>118.775650</td>\n",
       "    </tr>\n",
       "    <tr>\n",
       "      <th>77</th>\n",
       "      <td>-5.686278e-10</td>\n",
       "      <td>0.157395</td>\n",
       "      <td>4.885107e-09</td>\n",
       "      <td>-87.332153</td>\n",
       "      <td>0.162654</td>\n",
       "      <td>9.352908e-11</td>\n",
       "      <td>152.587890</td>\n",
       "    </tr>\n",
       "  </tbody>\n",
       "</table>\n",
       "</div>"
      ],
      "text/plain": [
       "       Z rel (m)  Vert. Deflection (V)  OC D1 Amplitude (m)  \\\n",
       "73 -1.960832e-11              0.157373         4.944843e-09   \n",
       "74 -1.568630e-10              0.157119         4.933208e-09   \n",
       "75 -2.941176e-10              0.157802         4.912555e-09   \n",
       "76 -4.313723e-10              0.157466         4.894645e-09   \n",
       "77 -5.686278e-10              0.157395         4.885107e-09   \n",
       "\n",
       "    OC M1 Freq. Shift (Hz)  Vert. Deflection [bwd] (V)  \\\n",
       "73              -67.342552                    0.161219   \n",
       "74              -81.644501                    0.163439   \n",
       "75              -93.170227                    0.162400   \n",
       "76              -83.213905                    0.162585   \n",
       "77              -87.332153                    0.162654   \n",
       "\n",
       "    OC D1 Amplitude [bwd] (m)  OC M1 Freq. Shift [bwd] (Hz)  \n",
       "73               3.453646e-11                     94.090393  \n",
       "74               5.163214e-11                    134.519590  \n",
       "75               7.760537e-11                    152.587890  \n",
       "76               2.179591e-11                    118.775650  \n",
       "77               9.352908e-11                    152.587890  "
      ]
     },
     "execution_count": 131,
     "metadata": {},
     "output_type": "execute_result"
    }
   ],
   "source": [
    "db[db['Z rel (m)']<0].head()"
   ]
  }
 ],
 "metadata": {
  "kernelspec": {
   "display_name": "Python 3",
   "language": "python",
   "name": "python3"
  },
  "language_info": {
   "codemirror_mode": {
    "name": "ipython",
    "version": 3
   },
   "file_extension": ".py",
   "mimetype": "text/x-python",
   "name": "python",
   "nbconvert_exporter": "python",
   "pygments_lexer": "ipython3",
   "version": "3.7.3"
  }
 },
 "nbformat": 4,
 "nbformat_minor": 4
}
