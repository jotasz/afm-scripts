{
 "cells": [
  {
   "cell_type": "markdown",
   "metadata": {},
   "source": [
    "# Standalone reading functions for nanonis files"
   ]
  },
  {
   "cell_type": "code",
   "execution_count": 5,
   "metadata": {},
   "outputs": [],
   "source": [
    "def read_nanonis_experiment(filename):    \n",
    "    # Reads the type of experiment from the header of any nanonis file. Examples:\n",
    "    # - 'Experiment' for freq. sweep files\n",
    "    # - 'bias spectroscopy'\n",
    "    # - 'Z spectroscopy'\n",
    "    \n",
    "    with open(filename, \"rb\") as data_file:\n",
    "        dummy_file = data_file.read()\n",
    "\n",
    "        position = dummy_file.find(b'Experiment')\n",
    "        data_file.seek(position)\n",
    "        #data_type = data_file.readline().decode('ascii').split()[1:]\n",
    "        data_type = data_file.readline().decode('ascii')[11:]\n",
    "    return data_type\n",
    "\n",
    "def read_nanonis_fsweep_header(filename):\n",
    "    # Read the header of a fsweep file into a python dictionary\n",
    "    # f_res (Hz), Phase (deg), Amp/Exc (nm/mV)\n",
    "    \n",
    "    header = {} # define empty dictionary\n",
    "    with open(filename, \"rb\") as data_file:\n",
    "        dummy_file = data_file.read()\n",
    "\n",
    "        position = dummy_file.find(b'Experiment')\n",
    "        data_file.seek(position)\n",
    "        line = data_file.readline().decode('ascii').split()\n",
    "        header[line[0].lower()] = 'freq-sweep'\n",
    "             \n",
    "        position = dummy_file.find(b'Date')\n",
    "        data_file.seek(position)\n",
    "        line = data_file.readline().decode('ascii').split()\n",
    "        header['date'] = line[1]\n",
    "        header['time'] = line[2]\n",
    "\n",
    "        position = dummy_file.find(b'f_res')\n",
    "        data_file.seek(position)\n",
    "        line = data_file.readline().decode('ascii').split()\n",
    "        header['f-res-hz'] = float(line[-1])\n",
    "\n",
    "        position = dummy_file.find(b'Q')\n",
    "        data_file.seek(position)\n",
    "        line = data_file.readline().decode('ascii').split()\n",
    "        header['q-factor'] = int(line[1])\n",
    "\n",
    "        position = dummy_file.find(b'Phase')\n",
    "        data_file.seek(position)\n",
    "        line = data_file.readline().decode('ascii').split()\n",
    "        header['phase-deg'] = float(line[-1])\n",
    "\n",
    "        position = dummy_file.find(b'Amp/Exc')\n",
    "        data_file.seek(position)\n",
    "        line = data_file.readline().decode('ascii').split()\n",
    "        header['amp-exc-nm-mv'] = float(line[-1])\n",
    "\n",
    "        position = dummy_file.find(b'Number of points')\n",
    "        data_file.seek(position)\n",
    "        line = data_file.readline().decode('ascii').split()\n",
    "        header['points'] = int(line[-1]) \n",
    "        return(header)\n",
    "\n",
    "def read_nanonis_curve(filename):\n",
    "    # Read the numeric data from ASCII nanonis file\n",
    "    import pandas as pd\n",
    "    with open(filename, \"rb\") as data_file:\n",
    "        dummy_file = data_file.read()\n",
    "\n",
    "        position = dummy_file.find(b'[DATA]')\n",
    "        data_file.seek(position)\n",
    "        data_file.readline()\n",
    "        data_table = data_file.read().decode('ascii')\n",
    "    return pd.read_csv(StringIO(data_table), sep='\\t')"
   ]
  },
  {
   "cell_type": "code",
   "execution_count": null,
   "metadata": {},
   "outputs": [],
   "source": []
  }
 ],
 "metadata": {
  "kernelspec": {
   "display_name": "Python 3",
   "language": "python",
   "name": "python3"
  },
  "language_info": {
   "codemirror_mode": {
    "name": "ipython",
    "version": 3
   },
   "file_extension": ".py",
   "mimetype": "text/x-python",
   "name": "python",
   "nbconvert_exporter": "python",
   "pygments_lexer": "ipython3",
   "version": "3.7.3"
  }
 },
 "nbformat": 4,
 "nbformat_minor": 4
}
