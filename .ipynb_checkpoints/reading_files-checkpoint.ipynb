{
 "cells": [
  {
   "cell_type": "code",
   "execution_count": 1,
   "metadata": {},
   "outputs": [],
   "source": [
    "import numpy as np\n",
    "import scipy.optimize\n",
    "import matplotlib.pyplot as plt\n",
    "import matplotlib.cm as cm\n",
    "import matplotlib as mpl\n",
    "import csv \n",
    "import io\n",
    "import pandas as pd\n",
    "from pandas.compat import StringIO, BytesIO\n",
    "import time #time.time() function to compute time"
   ]
  },
  {
   "cell_type": "markdown",
   "metadata": {},
   "source": [
    "### Functions reading Nanonis files"
   ]
  },
  {
   "cell_type": "code",
   "execution_count": 2,
   "metadata": {},
   "outputs": [],
   "source": [
    "def read_nanonis_experiment(filename):\n",
    "    import pandas as pd\n",
    "    with open(filename, \"rb\") as data_file:\n",
    "        dummy_file = data_file.read()\n",
    "\n",
    "        position = dummy_file.find(b'Experiment')\n",
    "        data_file.seek(position)\n",
    "        #data_type = data_file.readline().decode('ascii').split()[1:]\n",
    "        data_type = data_file.readline().decode('ascii')[11:]\n",
    "    return data_type\n",
    "\n",
    "def read_nanonis_curve(filename):\n",
    "    import pandas as pd\n",
    "    with open(filename, \"rb\") as data_file:\n",
    "        dummy_file = data_file.read()\n",
    "\n",
    "        position = dummy_file.find(b'[DATA]')\n",
    "        data_file.seek(position)\n",
    "        data_file.readline()\n",
    "        data_table = data_file.read().decode('ascii')\n",
    "    curve=pd.read_csv(StringIO(data_table), sep='\\t')\n",
    "    return curve"
   ]
  },
  {
   "cell_type": "markdown",
   "metadata": {},
   "source": [
    "#### Testing Nanonis functions"
   ]
  },
  {
   "cell_type": "code",
   "execution_count": 3,
   "metadata": {},
   "outputs": [
    {
     "name": "stdout",
     "output_type": "stream",
     "text": [
      "bias spectroscopy\t\n",
      "\n"
     ]
    },
    {
     "data": {
      "text/html": [
       "<div>\n",
       "<style scoped>\n",
       "    .dataframe tbody tr th:only-of-type {\n",
       "        vertical-align: middle;\n",
       "    }\n",
       "\n",
       "    .dataframe tbody tr th {\n",
       "        vertical-align: top;\n",
       "    }\n",
       "\n",
       "    .dataframe thead th {\n",
       "        text-align: right;\n",
       "    }\n",
       "</style>\n",
       "<table border=\"1\" class=\"dataframe\">\n",
       "  <thead>\n",
       "    <tr style=\"text-align: right;\">\n",
       "      <th></th>\n",
       "      <th>Bias calc (V)</th>\n",
       "      <th>OC D1 Amplitude (m)</th>\n",
       "      <th>OC M1 Freq. Shift (Hz)</th>\n",
       "      <th>OC D1 Amplitude [bwd] (m)</th>\n",
       "      <th>OC M1 Freq. Shift [bwd] (Hz)</th>\n",
       "    </tr>\n",
       "  </thead>\n",
       "  <tbody>\n",
       "    <tr>\n",
       "      <th>0</th>\n",
       "      <td>-1.000000</td>\n",
       "      <td>9.836363e-08</td>\n",
       "      <td>-56.129826</td>\n",
       "      <td>9.883544e-08</td>\n",
       "      <td>-56.006950</td>\n",
       "    </tr>\n",
       "    <tr>\n",
       "      <th>1</th>\n",
       "      <td>-0.992157</td>\n",
       "      <td>9.835121e-08</td>\n",
       "      <td>-56.700848</td>\n",
       "      <td>9.886181e-08</td>\n",
       "      <td>-56.248611</td>\n",
       "    </tr>\n",
       "    <tr>\n",
       "      <th>2</th>\n",
       "      <td>-0.984314</td>\n",
       "      <td>9.834855e-08</td>\n",
       "      <td>-55.291229</td>\n",
       "      <td>9.888624e-08</td>\n",
       "      <td>-57.167732</td>\n",
       "    </tr>\n",
       "    <tr>\n",
       "      <th>3</th>\n",
       "      <td>-0.976471</td>\n",
       "      <td>9.834528e-08</td>\n",
       "      <td>-55.480934</td>\n",
       "      <td>9.891335e-08</td>\n",
       "      <td>-56.220547</td>\n",
       "    </tr>\n",
       "    <tr>\n",
       "      <th>4</th>\n",
       "      <td>-0.968627</td>\n",
       "      <td>9.834302e-08</td>\n",
       "      <td>-55.509113</td>\n",
       "      <td>9.893257e-08</td>\n",
       "      <td>-54.839935</td>\n",
       "    </tr>\n",
       "  </tbody>\n",
       "</table>\n",
       "</div>"
      ],
      "text/plain": [
       "   Bias calc (V)  OC D1 Amplitude (m)  OC M1 Freq. Shift (Hz)  \\\n",
       "0      -1.000000         9.836363e-08              -56.129826   \n",
       "1      -0.992157         9.835121e-08              -56.700848   \n",
       "2      -0.984314         9.834855e-08              -55.291229   \n",
       "3      -0.976471         9.834528e-08              -55.480934   \n",
       "4      -0.968627         9.834302e-08              -55.509113   \n",
       "\n",
       "   OC D1 Amplitude [bwd] (m)  OC M1 Freq. Shift [bwd] (Hz)  \n",
       "0               9.883544e-08                    -56.006950  \n",
       "1               9.886181e-08                    -56.248611  \n",
       "2               9.888624e-08                    -57.167732  \n",
       "3               9.891335e-08                    -56.220547  \n",
       "4               9.893257e-08                    -54.839935  "
      ]
     },
     "execution_count": 3,
     "metadata": {},
     "output_type": "execute_result"
    }
   ],
   "source": [
    "file_name = \"Freq-Sweep-Nanonis.dat\"\n",
    "file_name = './RawData/Bias-Spectroscopy00014.dat'\n",
    "freq_sweep = read_nanonis_curve(file_name)\n",
    "print(read_nanonis_experiment(file_name))\n",
    "freq_sweep.head()"
   ]
  }
 ],
 "metadata": {
  "kernelspec": {
   "display_name": "Python 3",
   "language": "python",
   "name": "python3"
  },
  "language_info": {
   "codemirror_mode": {
    "name": "ipython",
    "version": 3
   },
   "file_extension": ".py",
   "mimetype": "text/x-python",
   "name": "python",
   "nbconvert_exporter": "python",
   "pygments_lexer": "ipython3",
   "version": "3.7.3"
  }
 },
 "nbformat": 4,
 "nbformat_minor": 4
}
